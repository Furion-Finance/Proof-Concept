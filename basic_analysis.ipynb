{
 "cells": [
  {
   "cell_type": "code",
   "execution_count": 1,
   "metadata": {},
   "outputs": [],
   "source": [
    "import pandas as PD\n",
    "import numpy as NP\n",
    "\n",
    "kongz_transaction = PD.read_csv('kongz_transaction.csv')\n",
    "\n",
    "reserve_columns = ['transactionHash', 'blockTimestamp', 'assetId', 'project', 'nftAddress', 'nftTicker', 'usdPrice', 'totalDecimalPrice', 'feeUSDPrice', 'feeTotalDecimalPrice', 'saleType', 'buyer', 'seller', 'meta']\n",
    "demo_transaction = kongz_transaction[reserve_columns]"
   ]
  },
  {
   "cell_type": "code",
   "execution_count": 2,
   "metadata": {},
   "outputs": [
    {
     "name": "stdout",
     "output_type": "stream",
     "text": [
      "time_begin 2021-04-17T13:16:20.000Z\n",
      "time_end 2021-10-19T07:48:06.000Z\n"
     ]
    }
   ],
   "source": [
    "# 时间跨度\n",
    "time_range = demo_transaction['blockTimestamp'].values\n",
    "time_begin = NP.min(time_range)\n",
    "time_end = NP.max(time_range)\n",
    "print('time_begin', time_begin)\n",
    "print('time_end', time_end)"
   ]
  },
  {
   "cell_type": "code",
   "execution_count": 3,
   "metadata": {},
   "outputs": [
    {
     "name": "stdout",
     "output_type": "stream",
     "text": [
      "total records 26993\n"
     ]
    }
   ],
   "source": [
    "# 有效记录\n",
    "print('total records', len(demo_transaction))"
   ]
  },
  {
   "cell_type": "code",
   "execution_count": 4,
   "metadata": {},
   "outputs": [
    {
     "name": "stdout",
     "output_type": "stream",
     "text": [
      "Minimal price 2.0123e-08\n",
      "Maximal price 746257.45845\n"
     ]
    }
   ],
   "source": [
    "# 价格跨度\n",
    "price_range = demo_transaction['usdPrice'].values\n",
    "price_low = NP.min(price_range)\n",
    "price_high = NP.max(price_range)\n",
    "print('Minimal price', price_low)\n",
    "print('Maximal price', price_high)"
   ]
  },
  {
   "cell_type": "code",
   "execution_count": 5,
   "metadata": {},
   "outputs": [
    {
     "name": "stdout",
     "output_type": "stream",
     "text": [
      "different groups 11590\n"
     ]
    }
   ],
   "source": [
    "token_group = demo_transaction.groupby('assetId')\n",
    "print('different groups', len(token_group))\n",
    "# print('details', list(token_group)[: 2]) # 预览"
   ]
  },
  {
   "cell_type": "code",
   "execution_count": 6,
   "metadata": {
    "scrolled": true
   },
   "outputs": [
    {
     "data": {
      "text/html": [
       "<div>\n",
       "<style scoped>\n",
       "    .dataframe tbody tr th:only-of-type {\n",
       "        vertical-align: middle;\n",
       "    }\n",
       "\n",
       "    .dataframe tbody tr th {\n",
       "        vertical-align: top;\n",
       "    }\n",
       "\n",
       "    .dataframe thead th {\n",
       "        text-align: right;\n",
       "    }\n",
       "</style>\n",
       "<table border=\"1\" class=\"dataframe\">\n",
       "  <thead>\n",
       "    <tr style=\"text-align: right;\">\n",
       "      <th></th>\n",
       "      <th>price_min</th>\n",
       "      <th>price_mean</th>\n",
       "      <th>price_max</th>\n",
       "      <th>price_var</th>\n",
       "      <th>count</th>\n",
       "    </tr>\n",
       "    <tr>\n",
       "      <th>assetId</th>\n",
       "      <th></th>\n",
       "      <th></th>\n",
       "      <th></th>\n",
       "      <th></th>\n",
       "      <th></th>\n",
       "    </tr>\n",
       "  </thead>\n",
       "  <tbody>\n",
       "    <tr>\n",
       "      <td>1</td>\n",
       "      <td>196420.800000</td>\n",
       "      <td>226416.231726</td>\n",
       "      <td>256411.663451</td>\n",
       "      <td>1.799452e+09</td>\n",
       "      <td>2</td>\n",
       "    </tr>\n",
       "    <tr>\n",
       "      <td>2</td>\n",
       "      <td>20398.500000</td>\n",
       "      <td>20398.500000</td>\n",
       "      <td>20398.500000</td>\n",
       "      <td>NaN</td>\n",
       "      <td>1</td>\n",
       "    </tr>\n",
       "    <tr>\n",
       "      <td>6</td>\n",
       "      <td>395526.400000</td>\n",
       "      <td>395526.400000</td>\n",
       "      <td>395526.400000</td>\n",
       "      <td>NaN</td>\n",
       "      <td>1</td>\n",
       "    </tr>\n",
       "    <tr>\n",
       "      <td>9</td>\n",
       "      <td>5341.000000</td>\n",
       "      <td>5341.000000</td>\n",
       "      <td>5341.000000</td>\n",
       "      <td>NaN</td>\n",
       "      <td>1</td>\n",
       "    </tr>\n",
       "    <tr>\n",
       "      <td>11</td>\n",
       "      <td>5.745780</td>\n",
       "      <td>68603.446890</td>\n",
       "      <td>137201.148000</td>\n",
       "      <td>6.274193e+09</td>\n",
       "      <td>4</td>\n",
       "    </tr>\n",
       "    <tr>\n",
       "      <td>14</td>\n",
       "      <td>3155.912045</td>\n",
       "      <td>53010.810111</td>\n",
       "      <td>123990.568288</td>\n",
       "      <td>3.984948e+09</td>\n",
       "      <td>3</td>\n",
       "    </tr>\n",
       "    <tr>\n",
       "      <td>16</td>\n",
       "      <td>2279.537410</td>\n",
       "      <td>31365.409489</td>\n",
       "      <td>60451.281568</td>\n",
       "      <td>1.691976e+09</td>\n",
       "      <td>2</td>\n",
       "    </tr>\n",
       "    <tr>\n",
       "      <td>17</td>\n",
       "      <td>5975.381000</td>\n",
       "      <td>6313.695400</td>\n",
       "      <td>6652.009800</td>\n",
       "      <td>2.289133e+05</td>\n",
       "      <td>2</td>\n",
       "    </tr>\n",
       "    <tr>\n",
       "      <td>23</td>\n",
       "      <td>288069.725500</td>\n",
       "      <td>288069.725500</td>\n",
       "      <td>288069.725500</td>\n",
       "      <td>NaN</td>\n",
       "      <td>1</td>\n",
       "    </tr>\n",
       "    <tr>\n",
       "      <td>25</td>\n",
       "      <td>5561.600000</td>\n",
       "      <td>5561.600000</td>\n",
       "      <td>5561.600000</td>\n",
       "      <td>NaN</td>\n",
       "      <td>1</td>\n",
       "    </tr>\n",
       "  </tbody>\n",
       "</table>\n",
       "</div>"
      ],
      "text/plain": [
       "             price_min     price_mean      price_max     price_var  count\n",
       "assetId                                                                  \n",
       "1        196420.800000  226416.231726  256411.663451  1.799452e+09      2\n",
       "2         20398.500000   20398.500000   20398.500000           NaN      1\n",
       "6        395526.400000  395526.400000  395526.400000           NaN      1\n",
       "9          5341.000000    5341.000000    5341.000000           NaN      1\n",
       "11            5.745780   68603.446890  137201.148000  6.274193e+09      4\n",
       "14         3155.912045   53010.810111  123990.568288  3.984948e+09      3\n",
       "16         2279.537410   31365.409489   60451.281568  1.691976e+09      2\n",
       "17         5975.381000    6313.695400    6652.009800  2.289133e+05      2\n",
       "23       288069.725500  288069.725500  288069.725500           NaN      1\n",
       "25         5561.600000    5561.600000    5561.600000           NaN      1"
      ]
     },
     "execution_count": 6,
     "metadata": {},
     "output_type": "execute_result"
    }
   ],
   "source": [
    "# 每组的数量，价格的分位数，均值等基本统计量\n",
    "token_info = token_group.agg({'usdPrice': ['min', 'mean', 'max', 'var', 'count']})\n",
    "token_info.columns = ['price_min', 'price_mean', 'price_max', 'price_var', 'count']\n",
    "token_info.head(10)"
   ]
  },
  {
   "cell_type": "code",
   "execution_count": 7,
   "metadata": {},
   "outputs": [
    {
     "name": "stdout",
     "output_type": "stream",
     "text": [
      "    counter  freq\n",
      "0         1  3506\n",
      "1         2  3976\n",
      "2         3  2224\n",
      "3         4  1103\n",
      "4         5   447\n",
      "5         6   198\n",
      "6         7    88\n",
      "7         8    29\n",
      "8         9    14\n",
      "9        10     2\n",
      "10       11     2\n",
      "11       12     1\n"
     ]
    }
   ],
   "source": [
    "# 交易频次统计\n",
    "counters = token_info['count'].values\n",
    "set(counters)\n",
    "counter_set = list(set(counters))\n",
    "freq_set = []\n",
    "for single_counter in counter_set:\n",
    "    freq_set.append(len(NP.where(counters == single_counter)[0]))\n",
    "summary = PD.DataFrame({\n",
    "    'counter': counter_set,\n",
    "    'freq': freq_set\n",
    "})\n",
    "print(summary)"
   ]
  },
  {
   "cell_type": "code",
   "execution_count": 8,
   "metadata": {},
   "outputs": [
    {
     "data": {
      "text/plain": [
       "Text(0.5, 1.0, 'Distribution of Transaction counts')"
      ]
     },
     "execution_count": 8,
     "metadata": {},
     "output_type": "execute_result"
    }
   ],
   "source": [
    "from matplotlib import pyplot as plt\n",
    "# 交易数量概览\n",
    "plt.hist(token_info['count'].values, bins=10, density=True)\n",
    "plt.title(\"Distribution of Transaction counts\")"
   ]
  },
  {
   "cell_type": "code",
   "execution_count": 9,
   "metadata": {},
   "outputs": [
    {
     "data": {
      "text/plain": [
       "Text(0.5, 1.0, 'Price Variance')"
      ]
     },
     "execution_count": 9,
     "metadata": {},
     "output_type": "execute_result"
    },
    {
     "data": {
      "image/png": "[encoded data removed]",
      "text/plain": [
       "<Figure size 1008x1008 with 4 Axes>"
      ]
     },
     "metadata": {
      "needs_background": "light"
     },
     "output_type": "display_data"
    }
   ],
   "source": [
    "# 价格分布\n",
    "plt.figure(figsize=(14, 14))\n",
    "plt.subplot(2, 2, 1)\n",
    "plt.hist(token_info['price_min'].values, bins=50, density=True)\n",
    "plt.title(\"Price Min\")\n",
    "plt.subplot(2, 2, 2)\n",
    "plt.hist(token_info['price_mean'].values, bins=50, density=True)\n",
    "plt.title(\"Price Mean\")\n",
    "plt.subplot(2, 2, 3)\n",
    "plt.hist(token_info['price_max'].values, bins=50, density=True)\n",
    "plt.title(\"Price Max\")\n",
    "plt.subplot(2, 2, 4)\n",
    "plt.hist(token_info['price_var'].values, bins=50, density=True)\n",
    "plt.title(\"Price Variance\")"
   ]
  },
  {
   "cell_type": "code",
   "execution_count": 10,
   "metadata": {},
   "outputs": [],
   "source": [
    "# 以10为步长计算累计概率分布\n",
    "def cumulative_function(value_list: NP.ndarray) -> PD.DataFrame:\n",
    "    # value_list = token_info['price_min'].values\n",
    "    value_max = max(value_list)\n",
    "    value_axis, prob_axis = [], []\n",
    "    cursor = 0\n",
    "    while cursor < value_max:\n",
    "        value_axis.append(cursor)\n",
    "        prob_axis.append(len(NP.where(value_list < cursor)[0]) / len(value_list))\n",
    "        cursor += 10\n",
    "    return PD.DataFrame({\n",
    "        'value': value_axis,\n",
    "        'prob': prob_axis\n",
    "    })"
   ]
  },
  {
   "cell_type": "code",
   "execution_count": 11,
   "metadata": {},
   "outputs": [
    {
     "data": {
      "text/plain": [
       "Text(0.5, 1.0, 'CDF of price max')"
      ]
     },
     "execution_count": 11,
     "metadata": {},
     "output_type": "execute_result"
    },
    {
     "data": {
      "image/png": "[encoded data removed]",
      "text/plain": [
       "<Figure size 1080x360 with 3 Axes>"
      ]
     },
     "metadata": {
      "needs_background": "light"
     },
     "output_type": "display_data"
    }
   ],
   "source": [
    "# 计算最低价、平均价、最高价的累计概率密度函数\n",
    "plt.figure(figsize=(15, 5))\n",
    "plt.subplot(1, 3, 1)\n",
    "price_min_cdf = cumulative_function(token_info['price_min'].values)\n",
    "plt.plot(price_min_cdf['value'], price_min_cdf['prob'])\n",
    "plt.title(\"CDF of price min\")\n",
    "\n",
    "plt.subplot(1, 3, 2)\n",
    "price_mean_cdf = cumulative_function(token_info['price_mean'].values)\n",
    "plt.plot(price_mean_cdf['value'], price_mean_cdf['prob'])\n",
    "plt.title(\"CDF of price mean\")\n",
    "\n",
    "plt.subplot(1, 3, 3)\n",
    "price_max_cdf = cumulative_function(token_info['price_max'].values)\n",
    "plt.plot(price_max_cdf['value'], price_max_cdf['prob'])\n",
    "plt.title(\"CDF of price max\")"
   ]
  },
  {
   "cell_type": "code",
   "execution_count": 12,
   "metadata": {
    "scrolled": true
   },
   "outputs": [],
   "source": [
    "def cal_quantile_threshold(cdf_results: PD.DataFrame) -> PD.DataFrame:\n",
    "    quantile_options = range(1, 19)\n",
    "    quantile_text = [str(_ * 5) +'%' for _ in quantile_options]\n",
    "    value_collection = []\n",
    "    for quantile_option in quantile_options:\n",
    "        left_values = cdf_results.loc[cdf_results['prob'] < quantile_option / 20]\n",
    "        value_collection.append(left_values['value'].values[-1])\n",
    "    return PD.DataFrame({\n",
    "        'quantile': quantile_text,\n",
    "        'value': value_collection\n",
    "    })"
   ]
  },
  {
   "cell_type": "code",
   "execution_count": 13,
   "metadata": {},
   "outputs": [
    {
     "name": "stdout",
     "output_type": "stream",
     "text": [
      "Quantile of Price\n",
      "\n",
      "   quantile   min  mean    max\n",
      "0        5%   220   220    220\n",
      "1       10%   220   220    220\n",
      "2       15%   220   220    220\n",
      "3       20%   220   220    220\n",
      "4       25%   220   220   1050\n",
      "5       30%   220   220   1180\n",
      "6       35%   220   220   1400\n",
      "7       40%   220   220   1860\n",
      "8       45%   220   220   2550\n",
      "9       50%   220   220   3130\n",
      "10      55%   220   220   3460\n",
      "11      60%   220   220   4060\n",
      "12      65%   220   220   4550\n",
      "13      70%   220   220   5430\n",
      "14      75%   220   220   6650\n",
      "15      80%   220   220   7970\n",
      "16      85%   220   220   9850\n",
      "17      90%  2650  2650  16860\n"
     ]
    }
   ],
   "source": [
    "min_indicator = cal_quantile_threshold(price_min_cdf)\n",
    "mean_indicator = cal_quantile_threshold(price_min_cdf)\n",
    "max_indicator = cal_quantile_threshold(price_max_cdf)\n",
    "compare = PD.DataFrame({\n",
    "    'quantile': min_indicator['quantile'].values,\n",
    "    'min': min_indicator['value'].values,\n",
    "    'mean': mean_indicator['value'].values,\n",
    "    'max': max_indicator['value'].values\n",
    "})\n",
    "print(\"Quantile of Price\\n\")\n",
    "print(compare)"
   ]
  },
  {
   "cell_type": "code",
   "execution_count": 14,
   "metadata": {},
   "outputs": [
    {
     "data": {
      "text/html": [
       "<div>\n",
       "<style scoped>\n",
       "    .dataframe tbody tr th:only-of-type {\n",
       "        vertical-align: middle;\n",
       "    }\n",
       "\n",
       "    .dataframe tbody tr th {\n",
       "        vertical-align: top;\n",
       "    }\n",
       "\n",
       "    .dataframe thead th {\n",
       "        text-align: right;\n",
       "    }\n",
       "</style>\n",
       "<table border=\"1\" class=\"dataframe\">\n",
       "  <thead>\n",
       "    <tr style=\"text-align: right;\">\n",
       "      <th></th>\n",
       "      <th>value</th>\n",
       "      <th>prob</th>\n",
       "    </tr>\n",
       "  </thead>\n",
       "  <tbody>\n",
       "    <tr>\n",
       "      <td>20</td>\n",
       "      <td>200</td>\n",
       "      <td>0.016048</td>\n",
       "    </tr>\n",
       "    <tr>\n",
       "      <td>21</td>\n",
       "      <td>210</td>\n",
       "      <td>0.016393</td>\n",
       "    </tr>\n",
       "    <tr>\n",
       "      <td>22</td>\n",
       "      <td>220</td>\n",
       "      <td>0.016825</td>\n",
       "    </tr>\n",
       "    <tr>\n",
       "      <td>23</td>\n",
       "      <td>230</td>\n",
       "      <td>0.869025</td>\n",
       "    </tr>\n",
       "    <tr>\n",
       "      <td>24</td>\n",
       "      <td>240</td>\n",
       "      <td>0.869025</td>\n",
       "    </tr>\n",
       "  </tbody>\n",
       "</table>\n",
       "</div>"
      ],
      "text/plain": [
       "    value      prob\n",
       "20    200  0.016048\n",
       "21    210  0.016393\n",
       "22    220  0.016825\n",
       "23    230  0.869025\n",
       "24    240  0.869025"
      ]
     },
     "execution_count": 14,
     "metadata": {},
     "output_type": "execute_result"
    }
   ],
   "source": [
    "PD.options.display.max_columns = None\n",
    "PD.options.display.max_rows = None\n",
    "price_min_cdf.iloc[20: 25, :]"
   ]
  },
  {
   "cell_type": "code",
   "execution_count": 15,
   "metadata": {},
   "outputs": [
    {
     "name": "stdout",
     "output_type": "stream",
     "text": [
      "              blockTimestamp     usdPrice  \\\n",
      "0   2021-08-21T03:33:09.000Z  8810.170255   \n",
      "1   2021-08-19T04:07:56.000Z  1491.931917   \n",
      "2   2021-08-15T19:34:24.000Z  1112.189547   \n",
      "3   2021-08-15T19:11:26.000Z   222.437909   \n",
      "4   2021-07-31T18:11:20.000Z  1598.887832   \n",
      "5   2021-07-28T02:20:09.000Z  1389.638257   \n",
      "6   2021-07-27T17:24:19.000Z  1309.896784   \n",
      "7   2021-07-27T17:13:03.000Z     2.797200   \n",
      "8   2021-07-27T00:55:47.000Z  1392.018750   \n",
      "9   2021-07-24T05:31:55.000Z   850.292000   \n",
      "10  2021-07-11T23:18:20.000Z   579.746700   \n",
      "11  2021-07-10T08:42:29.000Z   505.920278   \n",
      "\n",
      "                                         buyer  \\\n",
      "0   0x12bcf162bcaab6c6f829dcaa5026d72af956864c   \n",
      "1   0xe59191faf2663605c5fecdbf71be18deac3d13ee   \n",
      "2   0x7db7f636eb50ab2734b587a4eb0ee3e8e75d5254   \n",
      "3   0x41246a417c123ec0da4eaef2f309fe1796e7e69d   \n",
      "4   0x6e7ae8dee2f39eb521cca1762e0dadfccd2e88b2   \n",
      "5   0xe58deef4b6c17f614a12298f176db39ec5e2a521   \n",
      "6   0x9d59eba4deaee09466ba9d4073bf912bc72982b0   \n",
      "7   0xfa6c54de608c9a0a2c2a3220bb7e42b95d1b910b   \n",
      "8   0xd600ee8c118b0617cac8b0c297eaa54631857fb1   \n",
      "9   0x2e2a5f6bae8de7606d9174f6a4b0acca62a33baf   \n",
      "10  0xda6ad74619e62503c4cbefbe02ae05c8f4314591   \n",
      "11  0x63c8e1155e2be1e10041ff56625805abcf1fbf9b   \n",
      "\n",
      "                                        seller  \n",
      "0   0x95ecc7d0b94cda4996d808d414fb60b572f91ffa  \n",
      "1   0x7db7f636eb50ab2734b587a4eb0ee3e8e75d5254  \n",
      "2   0x41246a417c123ec0da4eaef2f309fe1796e7e69d  \n",
      "3   0x7ea3cca10668b8346aec0bf1844a49e995527c8b  \n",
      "4   0x67513fffec1f9bc1e7d971d067446205049ffe71  \n",
      "5   0x67513fffec1f9bc1e7d971d067446205049ffe71  \n",
      "6   0xfa6c54de608c9a0a2c2a3220bb7e42b95d1b910b  \n",
      "7   0xd600ee8c118b0617cac8b0c297eaa54631857fb1  \n",
      "8   0x2e2a5f6bae8de7606d9174f6a4b0acca62a33baf  \n",
      "9   0xda6ad74619e62503c4cbefbe02ae05c8f4314591  \n",
      "10  0x63c8e1155e2be1e10041ff56625805abcf1fbf9b  \n",
      "11  0x67513fffec1f9bc1e7d971d067446205049ffe71  \n"
     ]
    }
   ],
   "source": [
    "# 选出交易最高的查看明细\n",
    "specific_info = token_info[token_info['count'] == 12]\n",
    "specific_token_id = specific_info.index[0]\n",
    "specific_records = demo_transaction.loc[demo_transaction['assetId'] == specific_token_id].reset_index(drop=True)\n",
    "specific_records = specific_records[['blockTimestamp', 'usdPrice', 'buyer', 'seller']]\n",
    "print(specific_records)"
   ]
  },
  {
   "cell_type": "code",
   "execution_count": 16,
   "metadata": {},
   "outputs": [
    {
     "name": "stdout",
     "output_type": "stream",
     "text": [
      "              blockTimestamp     usdPrice  \\\n",
      "0   2021-10-12T09:29:10.000Z  5842.611900   \n",
      "1   2021-10-07T07:51:08.000Z  7183.116900   \n",
      "2   2021-10-06T12:53:18.000Z  8574.840450   \n",
      "3   2021-09-19T06:53:17.000Z  6150.822563   \n",
      "4   2021-09-11T09:05:33.000Z  4652.253088   \n",
      "5   2021-09-04T07:01:15.000Z  5717.393215   \n",
      "6   2021-09-01T05:58:09.000Z  2973.182746   \n",
      "7   2021-08-28T12:32:00.000Z  2647.026419   \n",
      "8   2021-08-19T22:11:07.000Z  1501.215010   \n",
      "9   2021-08-15T21:04:33.000Z  1075.657935   \n",
      "10  2021-08-15T19:06:00.000Z   222.437909   \n",
      "\n",
      "                                         buyer  \\\n",
      "0   0x87c241ab2c898d455dfdb725d1717553ac6eeae3   \n",
      "1   0xc34f37006cb57957b5296e9d7cd4f71958ec0b8f   \n",
      "2   0x6009303f26c0101022cb68d6cb95d46a8f6100a3   \n",
      "3   0xfb72f7123f0924f9e2d9544d9b2b778a33a94ea5   \n",
      "4   0xef97c92c47a76756cf8f33fb8b227cd8ebd7638d   \n",
      "5   0x871bf04e39e5134da87fff8dca6b7923e01b8004   \n",
      "6   0x759edbda766e33a3a02279a0708c8e9ec96de723   \n",
      "7   0x6789c80dce206a1438ed3f1f082723615bc888bd   \n",
      "8   0xdd23abb2227b4a3add86051810e03791f41c34e4   \n",
      "9   0x4fc1c777892b1fc47d29b3e6c5e34ee81fa548da   \n",
      "10  0x8c2b105b64059b4d1f8d66ed151aba066b1351d4   \n",
      "\n",
      "                                        seller  \n",
      "0   0x6831f6d59962c5b82cc4c3d294e59df186cf3eb2  \n",
      "1   0x6009303f26c0101022cb68d6cb95d46a8f6100a3  \n",
      "2   0xfb72f7123f0924f9e2d9544d9b2b778a33a94ea5  \n",
      "3   0xef97c92c47a76756cf8f33fb8b227cd8ebd7638d  \n",
      "4   0x871bf04e39e5134da87fff8dca6b7923e01b8004  \n",
      "5   0x759edbda766e33a3a02279a0708c8e9ec96de723  \n",
      "6   0x6789c80dce206a1438ed3f1f082723615bc888bd  \n",
      "7   0xdd23abb2227b4a3add86051810e03791f41c34e4  \n",
      "8   0x4fc1c777892b1fc47d29b3e6c5e34ee81fa548da  \n",
      "9   0x8c2b105b64059b4d1f8d66ed151aba066b1351d4  \n",
      "10  0x7ea3cca10668b8346aec0bf1844a49e995527c8b  \n"
     ]
    }
   ],
   "source": [
    "# 另一组\n",
    "specific_info = token_info[token_info['count'] == 11]\n",
    "specific_token_id = specific_info.index[1]\n",
    "specific_records = demo_transaction.loc[demo_transaction['assetId'] == specific_token_id].reset_index(drop=True)\n",
    "specific_records = specific_records[['blockTimestamp', 'usdPrice', 'buyer', 'seller']]\n",
    "print(specific_records)"
   ]
  },
  {
   "cell_type": "code",
   "execution_count": 17,
   "metadata": {},
   "outputs": [
    {
     "name": "stdout",
     "output_type": "stream",
     "text": [
      "             blockTimestamp     usdPrice  \\\n",
      "0  2021-09-10T04:51:05.000Z  8977.961400   \n",
      "1  2021-09-07T00:17:09.000Z  9793.618200   \n",
      "2  2021-08-25T05:03:51.000Z  6584.628959   \n",
      "3  2021-08-24T06:31:09.000Z  7629.675856   \n",
      "4  2021-08-20T13:44:26.000Z  5635.550820   \n",
      "5  2021-08-20T11:27:23.000Z  3209.842854   \n",
      "6  2021-08-20T05:59:34.000Z  6280.774003   \n",
      "7  2021-08-19T20:30:02.000Z  9343.966514   \n",
      "8  2021-08-15T19:13:45.000Z   222.437909   \n",
      "9  2021-05-30T15:05:19.000Z   224.041350   \n",
      "\n",
      "                                        buyer  \\\n",
      "0  0x583ae442a93b098bbc0556a5e4d892c66aea6b47   \n",
      "1  0x527d968af4283f20924c2e5b8dff867aab566478   \n",
      "2  0x9d59eba4deaee09466ba9d4073bf912bc72982b0   \n",
      "3  0xd14ab59a934a22b072f331453c205f85c168aae4   \n",
      "4  0xb5696e4057b9ba76616cecb5a537eaca7b3cdf54   \n",
      "5  0xfce0413bad4e59f55946669e678eccfe87777777   \n",
      "6  0x7417cc585602d8e225b26e395a1efe40ec4a74a9   \n",
      "7  0xe3061184fef7c293ef41f99cc87252cc8736031a   \n",
      "8  0xc37cd5e34ef273f6aefe6900fc9d75563cdcfe03   \n",
      "9  0xf04928ec019e13753aca32e2ea2b39238dadcaba   \n",
      "\n",
      "                                       seller  \n",
      "0  0x527d968af4283f20924c2e5b8dff867aab566478  \n",
      "1  0xd66bb2d2935487fcef48bf4e26b3101fbeb7d744  \n",
      "2  0xd14ab59a934a22b072f331453c205f85c168aae4  \n",
      "3  0x7417cc585602d8e225b26e395a1efe40ec4a74a9  \n",
      "4  0xfce0413bad4e59f55946669e678eccfe87777777  \n",
      "5  0xc37cd5e34ef273f6aefe6900fc9d75563cdcfe03  \n",
      "6  0xe3061184fef7c293ef41f99cc87252cc8736031a  \n",
      "7  0xf04928ec019e13753aca32e2ea2b39238dadcaba  \n",
      "8  0x7ea3cca10668b8346aec0bf1844a49e995527c8b  \n",
      "9  0xd9d1c2623fbb4377d9bf29075e610a9b8b4805b4  \n"
     ]
    }
   ],
   "source": [
    "specific_info = token_info[token_info['count'] == 10]\n",
    "specific_token_id = specific_info.index[0]\n",
    "specific_records = demo_transaction.loc[demo_transaction['assetId'] == specific_token_id].reset_index(drop=True)\n",
    "specific_records = specific_records[['blockTimestamp', 'usdPrice', 'buyer', 'seller']]\n",
    "print(specific_records)"
   ]
  },
  {
   "cell_type": "code",
   "execution_count": 18,
   "metadata": {},
   "outputs": [],
   "source": [
    "# 查看高交易量的NFT有何共性\n",
    "basic_info = PD.read_csv('kongz_basic_info.csv')\n",
    "popular_tokens = list(token_info.loc[token_info['count'] >= 9].index)"
   ]
  },
  {
   "cell_type": "code",
   "execution_count": null,
   "metadata": {},
   "outputs": [],
   "source": []
  }
 ],
 "metadata": {
  "kernelspec": {
   "display_name": "Python 3",
   "language": "python",
   "name": "python3"
  },
  "language_info": {
   "codemirror_mode": {
    "name": "ipython",
    "version": 3
   },
   "file_extension": ".py",
   "mimetype": "text/x-python",
   "name": "python",
   "nbconvert_exporter": "python",
   "pygments_lexer": "ipython3",
   "version": "3.7.4"
  }
 },
 "nbformat": 4,
 "nbformat_minor": 2
}
